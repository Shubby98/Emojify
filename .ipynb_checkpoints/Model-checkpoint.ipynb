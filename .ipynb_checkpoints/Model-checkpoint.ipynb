{
 "cells": [
  {
   "cell_type": "code",
   "execution_count": 1,
   "metadata": {},
   "outputs": [],
   "source": [
    "import pickle\n",
    "import numpy as np"
   ]
  },
  {
   "cell_type": "code",
   "execution_count": 4,
   "metadata": {},
   "outputs": [],
   "source": [
    "file = \"../DeepMoji-master/data/PsychExp/raw.pickle\""
   ]
  },
  {
   "cell_type": "code",
   "execution_count": 5,
   "metadata": {},
   "outputs": [],
   "source": [
    "data = pickle.load(open(file,'rb'),encoding='latin1')"
   ]
  },
  {
   "cell_type": "code",
   "execution_count": 7,
   "metadata": {},
   "outputs": [],
   "source": [
    "label = data['info']\n",
    "\n",
    "texts = data['texts']\n",
    "\n",
    "val_index = data['val_ind']\n",
    "\n",
    "test_index = data['test_ind']\n",
    "\n",
    "train_index = data['train_ind']"
   ]
  },
  {
   "cell_type": "code",
   "execution_count": 8,
   "metadata": {},
   "outputs": [],
   "source": [
    "def glove_vec(path):\n",
    "    import numpy as np\n",
    "    with open(path,'r',encoding='utf-8') as f:\n",
    "        words = set()\n",
    "        word_vec = {}\n",
    "        for line in f:\n",
    "            line = line.strip().split()\n",
    "            key = line[0]\n",
    "            words.add(key)\n",
    "            val = np.array(line[1:],dtype=np.float64)\n",
    "            word_vec[key] = val\n",
    "            \n",
    "        # Dict (Vocab) --> set\n",
    "        word2idx = {}\n",
    "        idx2word = {}\n",
    "        \n",
    "        for i,w in enumerate(sorted(words)):\n",
    "            word2idx[w] = i\n",
    "            idx2word[i] = w\n",
    "            \n",
    "    return word_vec,word2idx,idx2word"
   ]
  },
  {
   "cell_type": "code",
   "execution_count": 10,
   "metadata": {},
   "outputs": [],
   "source": [
    "word_vec,word2idx,idx2word = glove_vec('../glove.6B/glove.6B.50d.txt')\n",
    "vocab_size = len(word_vec)"
   ]
  },
  {
   "cell_type": "code",
   "execution_count": 11,
   "metadata": {},
   "outputs": [],
   "source": [
    "from nltk import word_tokenize"
   ]
  },
  {
   "cell_type": "code",
   "execution_count": 12,
   "metadata": {},
   "outputs": [],
   "source": [
    "def get_XY_data(Index):\n",
    "    X = np.zeros((len(Index) , 128 ))\n",
    "    Y = np.zeros((len(Index) , 7))\n",
    "    \n",
    "    zer = np.zeros((50 ,))\n",
    "    for i ,index in enumerate(Index):\n",
    "        line = word_tokenize(texts[index].lower())\n",
    "        \n",
    "        #print(index)\n",
    "        Y[i] = label[index]['label']\n",
    "        for j , word  in  enumerate(line[:128]):\n",
    "             X[i , j] =  word2idx.get(word , 0)\n",
    "    \n",
    "    return X ,Y"
   ]
  },
  {
   "cell_type": "code",
   "execution_count": 13,
   "metadata": {},
   "outputs": [
    {
     "name": "stdout",
     "output_type": "stream",
     "text": [
      "(900, 128) (900, 7)\n",
      "(6480, 128) (6480, 7)\n",
      "(100, 128) (100, 7)\n"
     ]
    }
   ],
   "source": [
    "X_train , Y_train  = get_XY_data(train_index)\n",
    "print(X_train.shape , Y_train.shape)\n",
    "\n",
    "X_test , Y_test  = get_XY_data(test_index)\n",
    "print(X_test.shape , Y_test.shape)\n",
    "\n",
    "X_val , Y_val  = get_XY_data(val_index)\n",
    "print(X_val.shape , Y_val.shape)\n"
   ]
  },
  {
   "cell_type": "code",
   "execution_count": 14,
   "metadata": {},
   "outputs": [],
   "source": [
    "from keras.layers import Embedding , Flatten ,Dense , Bidirectional ,LSTM\n",
    "from keras.models import Sequential"
   ]
  },
  {
   "cell_type": "code",
   "execution_count": 15,
   "metadata": {},
   "outputs": [
    {
     "name": "stdout",
     "output_type": "stream",
     "text": [
      "Model: \"sequential\"\n",
      "_________________________________________________________________\n",
      "Layer (type)                 Output Shape              Param #   \n",
      "=================================================================\n",
      "embedding (Embedding)        (None, 128, 50)           20000000  \n",
      "_________________________________________________________________\n",
      "bidirectional (Bidirectional (None, 256)               183296    \n",
      "_________________________________________________________________\n",
      "flatten (Flatten)            (None, 256)               0         \n",
      "_________________________________________________________________\n",
      "dense (Dense)                (None, 7)                 1799      \n",
      "=================================================================\n",
      "Total params: 20,185,095\n",
      "Trainable params: 20,185,095\n",
      "Non-trainable params: 0\n",
      "_________________________________________________________________\n",
      "None\n"
     ]
    }
   ],
   "source": [
    "\n",
    "\n",
    "model = Sequential()\n",
    "model.add(Embedding(vocab_size, 50, input_length=128))\n",
    "model.add(Bidirectional(LSTM(128)))\n",
    "model.add(Flatten())\n",
    "model.add(Dense(7, activation='softmax'))\n",
    "model.compile(optimizer='adam', loss='categorical_crossentropy', metrics=['accuracy'])\n",
    "print(model.summary())\n"
   ]
  },
  {
   "cell_type": "code",
   "execution_count": 84,
   "metadata": {},
   "outputs": [
    {
     "name": "stdout",
     "output_type": "stream",
     "text": [
      "Epoch 1/100\n",
      "9/9 [==============================] - 3s 385ms/step - loss: 1.6119 - accuracy: 0.3789 - val_loss: 1.8974 - val_accuracy: 0.2100\n",
      "Epoch 2/100\n",
      "9/9 [==============================] - 4s 417ms/step - loss: 1.5033 - accuracy: 0.4156 - val_loss: 1.8752 - val_accuracy: 0.2400\n",
      "Epoch 3/100\n",
      "9/9 [==============================] - 4s 412ms/step - loss: 1.3803 - accuracy: 0.5111 - val_loss: 1.8596 - val_accuracy: 0.3000\n",
      "Epoch 4/100\n",
      "9/9 [==============================] - 4s 432ms/step - loss: 1.6879 - accuracy: 0.5556 - val_loss: 2.0362 - val_accuracy: 0.2700\n",
      "Epoch 5/100\n",
      "9/9 [==============================] - 4s 405ms/step - loss: 1.3620 - accuracy: 0.5200 - val_loss: 2.0154 - val_accuracy: 0.2700\n",
      "Epoch 6/100\n",
      "9/9 [==============================] - 4s 428ms/step - loss: 1.1992 - accuracy: 0.5544 - val_loss: 2.0059 - val_accuracy: 0.2700\n",
      "Epoch 7/100\n",
      "9/9 [==============================] - 4s 407ms/step - loss: 1.0304 - accuracy: 0.6922 - val_loss: 1.9561 - val_accuracy: 0.3000\n",
      "Epoch 8/100\n",
      "9/9 [==============================] - 4s 404ms/step - loss: 0.8875 - accuracy: 0.7678 - val_loss: 2.0541 - val_accuracy: 0.3400\n",
      "Epoch 9/100\n",
      "9/9 [==============================] - 4s 434ms/step - loss: 0.7632 - accuracy: 0.8078 - val_loss: 1.9953 - val_accuracy: 0.3700\n",
      "Epoch 10/100\n",
      "9/9 [==============================] - 4s 405ms/step - loss: 0.6451 - accuracy: 0.8422 - val_loss: 2.1146 - val_accuracy: 0.3600\n",
      "Epoch 11/100\n",
      "9/9 [==============================] - 4s 433ms/step - loss: 0.5400 - accuracy: 0.8744 - val_loss: 2.3052 - val_accuracy: 0.3100\n",
      "Epoch 12/100\n",
      "9/9 [==============================] - 4s 403ms/step - loss: 0.4586 - accuracy: 0.8911 - val_loss: 2.2721 - val_accuracy: 0.3500\n",
      "Epoch 13/100\n",
      "9/9 [==============================] - 4s 416ms/step - loss: 0.5202 - accuracy: 0.8578 - val_loss: 2.1379 - val_accuracy: 0.2900\n",
      "Epoch 14/100\n",
      "9/9 [==============================] - 4s 407ms/step - loss: 0.4900 - accuracy: 0.9033 - val_loss: 2.3502 - val_accuracy: 0.3700\n",
      "Epoch 15/100\n",
      "9/9 [==============================] - 4s 406ms/step - loss: 0.3712 - accuracy: 0.9244 - val_loss: 2.2974 - val_accuracy: 0.3800\n",
      "Epoch 16/100\n",
      "9/9 [==============================] - 4s 431ms/step - loss: 0.2987 - accuracy: 0.9511 - val_loss: 2.4848 - val_accuracy: 0.3500\n",
      "Epoch 17/100\n",
      "9/9 [==============================] - 4s 405ms/step - loss: 0.3122 - accuracy: 0.9533 - val_loss: 2.4908 - val_accuracy: 0.4100\n",
      "Epoch 18/100\n",
      "9/9 [==============================] - 4s 429ms/step - loss: 0.2582 - accuracy: 0.9644 - val_loss: 2.6640 - val_accuracy: 0.3700\n",
      "Epoch 19/100\n",
      "9/9 [==============================] - 4s 403ms/step - loss: 0.2122 - accuracy: 0.9733 - val_loss: 2.7633 - val_accuracy: 0.3800\n",
      "Epoch 20/100\n",
      "9/9 [==============================] - 4s 401ms/step - loss: 0.1769 - accuracy: 0.9756 - val_loss: 2.9946 - val_accuracy: 0.3100\n",
      "Epoch 21/100\n",
      "9/9 [==============================] - 4s 423ms/step - loss: 0.1524 - accuracy: 0.9778 - val_loss: 2.9960 - val_accuracy: 0.3200\n",
      "Epoch 22/100\n",
      "9/9 [==============================] - 4s 409ms/step - loss: 0.1311 - accuracy: 0.9789 - val_loss: 3.1362 - val_accuracy: 0.3200\n",
      "Epoch 23/100\n",
      "9/9 [==============================] - 4s 434ms/step - loss: 0.1104 - accuracy: 0.9844 - val_loss: 3.1256 - val_accuracy: 0.3000\n",
      "Epoch 24/100\n",
      "9/9 [==============================] - 4s 417ms/step - loss: 0.0975 - accuracy: 0.9867 - val_loss: 3.3817 - val_accuracy: 0.2800\n",
      "Epoch 25/100\n",
      "9/9 [==============================] - 4s 483ms/step - loss: 0.0883 - accuracy: 0.9867 - val_loss: 3.3724 - val_accuracy: 0.3000\n",
      "Epoch 26/100\n",
      "9/9 [==============================] - 4s 403ms/step - loss: 0.0824 - accuracy: 0.9900 - val_loss: 3.4349 - val_accuracy: 0.3200\n",
      "Epoch 27/100\n",
      "9/9 [==============================] - 4s 403ms/step - loss: 0.0724 - accuracy: 0.9911 - val_loss: 3.5285 - val_accuracy: 0.3500\n",
      "Epoch 28/100\n",
      "9/9 [==============================] - 4s 418ms/step - loss: 0.0656 - accuracy: 0.9933 - val_loss: 3.6799 - val_accuracy: 0.3100\n",
      "Epoch 29/100\n",
      "9/9 [==============================] - 4s 409ms/step - loss: 0.0595 - accuracy: 0.9911 - val_loss: 3.8132 - val_accuracy: 0.2900\n",
      "Epoch 30/100\n",
      "9/9 [==============================] - 4s 434ms/step - loss: 0.0575 - accuracy: 0.9922 - val_loss: 3.7776 - val_accuracy: 0.3100\n",
      "Epoch 31/100\n",
      "9/9 [==============================] - 4s 405ms/step - loss: 0.0548 - accuracy: 0.9933 - val_loss: 3.6143 - val_accuracy: 0.3200\n",
      "Epoch 32/100\n",
      "9/9 [==============================] - 4s 429ms/step - loss: 0.0526 - accuracy: 0.9933 - val_loss: 3.8575 - val_accuracy: 0.2800\n",
      "Epoch 33/100\n",
      "9/9 [==============================] - 4s 403ms/step - loss: 0.0519 - accuracy: 0.9944 - val_loss: 3.9105 - val_accuracy: 0.3200\n",
      "Epoch 34/100\n",
      "9/9 [==============================] - 4s 407ms/step - loss: 0.0424 - accuracy: 0.9978 - val_loss: 3.8163 - val_accuracy: 0.3000\n",
      "Epoch 35/100\n",
      "9/9 [==============================] - 4s 433ms/step - loss: 0.0386 - accuracy: 0.9967 - val_loss: 3.8616 - val_accuracy: 0.3100\n",
      "Epoch 36/100\n",
      "9/9 [==============================] - 4s 411ms/step - loss: 0.0353 - accuracy: 0.9967 - val_loss: 3.9055 - val_accuracy: 0.3000\n",
      "Epoch 37/100\n",
      "9/9 [==============================] - 4s 434ms/step - loss: 0.0317 - accuracy: 0.9978 - val_loss: 4.0115 - val_accuracy: 0.3100\n",
      "Epoch 38/100\n",
      "9/9 [==============================] - 4s 408ms/step - loss: 0.0281 - accuracy: 0.9978 - val_loss: 4.0040 - val_accuracy: 0.3300\n",
      "Epoch 39/100\n",
      "9/9 [==============================] - 4s 424ms/step - loss: 0.0249 - accuracy: 0.9978 - val_loss: 4.0677 - val_accuracy: 0.3300\n",
      "Epoch 40/100\n",
      "9/9 [==============================] - 4s 412ms/step - loss: 0.0226 - accuracy: 0.9989 - val_loss: 4.1733 - val_accuracy: 0.3200\n",
      "Epoch 41/100\n",
      "9/9 [==============================] - 4s 411ms/step - loss: 0.0210 - accuracy: 0.9978 - val_loss: 4.1451 - val_accuracy: 0.3300\n",
      "Epoch 42/100\n",
      "9/9 [==============================] - 4s 433ms/step - loss: 0.0207 - accuracy: 0.9978 - val_loss: 4.1849 - val_accuracy: 0.3400\n",
      "Epoch 43/100\n",
      "9/9 [==============================] - 4s 410ms/step - loss: 0.0233 - accuracy: 0.9967 - val_loss: 4.1547 - val_accuracy: 0.3300\n",
      "Epoch 44/100\n",
      "9/9 [==============================] - 4s 434ms/step - loss: 0.0438 - accuracy: 0.9944 - val_loss: 4.1098 - val_accuracy: 0.3600\n",
      "Epoch 45/100\n",
      "9/9 [==============================] - 4s 406ms/step - loss: 0.0310 - accuracy: 0.9978 - val_loss: 3.9639 - val_accuracy: 0.3500\n",
      "Epoch 46/100\n",
      "9/9 [==============================] - 4s 417ms/step - loss: 0.0487 - accuracy: 0.9878 - val_loss: 4.1121 - val_accuracy: 0.3200\n",
      "Epoch 47/100\n",
      "9/9 [==============================] - 4s 413ms/step - loss: 0.0293 - accuracy: 0.9989 - val_loss: 3.7616 - val_accuracy: 0.3200\n",
      "Epoch 48/100\n",
      "9/9 [==============================] - 4s 407ms/step - loss: 0.0692 - accuracy: 0.9867 - val_loss: 4.0186 - val_accuracy: 0.3000\n",
      "Epoch 49/100\n",
      "9/9 [==============================] - 4s 434ms/step - loss: 0.0496 - accuracy: 0.9922 - val_loss: 3.7135 - val_accuracy: 0.3500\n",
      "Epoch 50/100\n",
      "9/9 [==============================] - 4s 406ms/step - loss: 0.0491 - accuracy: 0.9922 - val_loss: 3.8081 - val_accuracy: 0.3500\n",
      "Epoch 51/100\n",
      "9/9 [==============================] - 4s 431ms/step - loss: 0.0387 - accuracy: 0.9944 - val_loss: 3.7641 - val_accuracy: 0.3300\n",
      "Epoch 52/100\n",
      "9/9 [==============================] - 4s 407ms/step - loss: 0.0599 - accuracy: 0.9889 - val_loss: 3.7557 - val_accuracy: 0.3600\n",
      "Epoch 53/100\n",
      "9/9 [==============================] - 4s 438ms/step - loss: 0.0564 - accuracy: 0.9900 - val_loss: 3.6231 - val_accuracy: 0.3100\n",
      "Epoch 54/100\n",
      "9/9 [==============================] - 4s 421ms/step - loss: 0.0494 - accuracy: 0.9922 - val_loss: 3.6195 - val_accuracy: 0.3200\n",
      "Epoch 55/100\n",
      "9/9 [==============================] - 4s 406ms/step - loss: 0.0251 - accuracy: 0.9989 - val_loss: 3.7956 - val_accuracy: 0.3500\n",
      "Epoch 56/100\n",
      "9/9 [==============================] - 4s 433ms/step - loss: 0.0209 - accuracy: 0.9989 - val_loss: 3.9243 - val_accuracy: 0.3600\n",
      "Epoch 57/100\n",
      "9/9 [==============================] - 4s 407ms/step - loss: 0.0169 - accuracy: 0.9989 - val_loss: 4.0271 - val_accuracy: 0.3700\n",
      "Epoch 58/100\n",
      "9/9 [==============================] - 4s 439ms/step - loss: 0.0146 - accuracy: 0.9989 - val_loss: 4.1452 - val_accuracy: 0.3500\n"
     ]
    },
    {
     "name": "stdout",
     "output_type": "stream",
     "text": [
      "Epoch 59/100\n",
      "9/9 [==============================] - 4s 402ms/step - loss: 0.0130 - accuracy: 0.9978 - val_loss: 4.1681 - val_accuracy: 0.3600\n",
      "Epoch 60/100\n",
      "9/9 [==============================] - 4s 402ms/step - loss: 0.0118 - accuracy: 0.9989 - val_loss: 4.1950 - val_accuracy: 0.3500\n",
      "Epoch 61/100\n",
      "9/9 [==============================] - 4s 421ms/step - loss: 0.0110 - accuracy: 0.9989 - val_loss: 4.2783 - val_accuracy: 0.3400\n",
      "Epoch 62/100\n",
      "9/9 [==============================] - 4s 405ms/step - loss: 0.0102 - accuracy: 0.9989 - val_loss: 4.3231 - val_accuracy: 0.3400\n",
      "Epoch 63/100\n",
      "9/9 [==============================] - 4s 428ms/step - loss: 0.0097 - accuracy: 0.9978 - val_loss: 4.3699 - val_accuracy: 0.3400\n",
      "Epoch 64/100\n",
      "9/9 [==============================] - 4s 401ms/step - loss: 0.0092 - accuracy: 0.9989 - val_loss: 4.4168 - val_accuracy: 0.3300\n",
      "Epoch 65/100\n",
      "9/9 [==============================] - 4s 428ms/step - loss: 0.0086 - accuracy: 0.9989 - val_loss: 4.4684 - val_accuracy: 0.3300\n",
      "Epoch 66/100\n",
      "9/9 [==============================] - 4s 401ms/step - loss: 0.0082 - accuracy: 0.9989 - val_loss: 4.4954 - val_accuracy: 0.3300\n",
      "Epoch 67/100\n",
      "9/9 [==============================] - 4s 416ms/step - loss: 0.0083 - accuracy: 0.9989 - val_loss: 4.5048 - val_accuracy: 0.3300\n",
      "Epoch 68/100\n",
      "9/9 [==============================] - 4s 429ms/step - loss: 0.0076 - accuracy: 0.9989 - val_loss: 4.5355 - val_accuracy: 0.3300\n",
      "Epoch 69/100\n",
      "9/9 [==============================] - 4s 415ms/step - loss: 0.0073 - accuracy: 0.9989 - val_loss: 4.5839 - val_accuracy: 0.3400\n",
      "Epoch 70/100\n",
      "9/9 [==============================] - 4s 430ms/step - loss: 0.0074 - accuracy: 0.9989 - val_loss: 4.6264 - val_accuracy: 0.3400\n",
      "Epoch 71/100\n",
      "9/9 [==============================] - 4s 404ms/step - loss: 0.0068 - accuracy: 0.9978 - val_loss: 4.6794 - val_accuracy: 0.3300\n",
      "Epoch 72/100\n",
      "9/9 [==============================] - 4s 417ms/step - loss: 0.0068 - accuracy: 0.9989 - val_loss: 4.6703 - val_accuracy: 0.3300\n",
      "Epoch 73/100\n",
      "9/9 [==============================] - 4s 406ms/step - loss: 0.0065 - accuracy: 0.9989 - val_loss: 4.6761 - val_accuracy: 0.3400\n",
      "Epoch 74/100\n",
      "9/9 [==============================] - 4s 407ms/step - loss: 0.0061 - accuracy: 0.9989 - val_loss: 4.7492 - val_accuracy: 0.3500\n",
      "Epoch 75/100\n",
      "9/9 [==============================] - 4s 430ms/step - loss: 0.0065 - accuracy: 0.9989 - val_loss: 4.7385 - val_accuracy: 0.3200\n",
      "Epoch 76/100\n",
      "9/9 [==============================] - 4s 402ms/step - loss: 0.0070 - accuracy: 0.9989 - val_loss: 4.6650 - val_accuracy: 0.3400\n",
      "Epoch 77/100\n",
      "9/9 [==============================] - 4s 444ms/step - loss: 0.0060 - accuracy: 0.9989 - val_loss: 4.7915 - val_accuracy: 0.3500\n",
      "Epoch 78/100\n",
      "9/9 [==============================] - 4s 410ms/step - loss: 0.0057 - accuracy: 0.9978 - val_loss: 4.8359 - val_accuracy: 0.3400\n",
      "Epoch 79/100\n",
      "9/9 [==============================] - 4s 416ms/step - loss: 0.0055 - accuracy: 0.9989 - val_loss: 4.8661 - val_accuracy: 0.3500\n",
      "Epoch 80/100\n",
      "9/9 [==============================] - 4s 429ms/step - loss: 0.0059 - accuracy: 0.9978 - val_loss: 4.8226 - val_accuracy: 0.3400\n",
      "Epoch 81/100\n",
      "9/9 [==============================] - 4s 412ms/step - loss: 0.0057 - accuracy: 0.9978 - val_loss: 4.8590 - val_accuracy: 0.3400\n",
      "Epoch 82/100\n",
      "9/9 [==============================] - 5s 521ms/step - loss: 0.0052 - accuracy: 0.9978 - val_loss: 4.8714 - val_accuracy: 0.3500\n",
      "Epoch 83/100\n",
      "9/9 [==============================] - 4s 483ms/step - loss: 0.0049 - accuracy: 0.9989 - val_loss: 4.8757 - val_accuracy: 0.3400\n",
      "Epoch 84/100\n",
      "9/9 [==============================] - 4s 449ms/step - loss: 0.0048 - accuracy: 0.9989 - val_loss: 4.9278 - val_accuracy: 0.3400\n",
      "Epoch 85/100\n",
      "9/9 [==============================] - 5s 530ms/step - loss: 0.0056 - accuracy: 0.9989 - val_loss: 4.9685 - val_accuracy: 0.3300\n",
      "Epoch 86/100\n",
      "9/9 [==============================] - 4s 449ms/step - loss: 0.0054 - accuracy: 0.9989 - val_loss: 4.8313 - val_accuracy: 0.3600\n",
      "Epoch 87/100\n",
      "9/9 [==============================] - 4s 419ms/step - loss: 0.0051 - accuracy: 0.9989 - val_loss: 4.9700 - val_accuracy: 0.3200\n",
      "Epoch 88/100\n",
      "9/9 [==============================] - 4s 453ms/step - loss: 0.0050 - accuracy: 0.9989 - val_loss: 4.9835 - val_accuracy: 0.3400\n",
      "Epoch 89/100\n",
      "9/9 [==============================] - 4s 415ms/step - loss: 0.0046 - accuracy: 0.9978 - val_loss: 5.0119 - val_accuracy: 0.3300\n",
      "Epoch 90/100\n",
      "9/9 [==============================] - 4s 435ms/step - loss: 0.0049 - accuracy: 0.9989 - val_loss: 4.9669 - val_accuracy: 0.3400\n",
      "Epoch 91/100\n",
      "9/9 [==============================] - 4s 414ms/step - loss: 0.0043 - accuracy: 0.9978 - val_loss: 5.0513 - val_accuracy: 0.3500\n",
      "Epoch 92/100\n",
      "9/9 [==============================] - 4s 422ms/step - loss: 0.0042 - accuracy: 0.9989 - val_loss: 5.0593 - val_accuracy: 0.3400\n",
      "Epoch 93/100\n",
      "9/9 [==============================] - 4s 446ms/step - loss: 0.0049 - accuracy: 0.9989 - val_loss: 4.9999 - val_accuracy: 0.3400\n",
      "Epoch 94/100\n",
      "9/9 [==============================] - 4s 417ms/step - loss: 0.0040 - accuracy: 0.9989 - val_loss: 5.1502 - val_accuracy: 0.3400\n",
      "Epoch 95/100\n",
      "9/9 [==============================] - 4s 450ms/step - loss: 0.0042 - accuracy: 0.9989 - val_loss: 5.1393 - val_accuracy: 0.3400\n",
      "Epoch 96/100\n",
      "9/9 [==============================] - 4s 416ms/step - loss: 0.0046 - accuracy: 0.9978 - val_loss: 4.9860 - val_accuracy: 0.3400\n",
      "Epoch 97/100\n",
      "9/9 [==============================] - 4s 440ms/step - loss: 0.0043 - accuracy: 0.9989 - val_loss: 5.0815 - val_accuracy: 0.3400\n",
      "Epoch 98/100\n",
      "9/9 [==============================] - 4s 416ms/step - loss: 0.0056 - accuracy: 0.9978 - val_loss: 5.1518 - val_accuracy: 0.3500\n",
      "Epoch 99/100\n",
      "9/9 [==============================] - 4s 419ms/step - loss: 0.0060 - accuracy: 0.9978 - val_loss: 4.7981 - val_accuracy: 0.3700\n",
      "Epoch 100/100\n",
      "9/9 [==============================] - 4s 442ms/step - loss: 0.0060 - accuracy: 0.9989 - val_loss: 4.8128 - val_accuracy: 0.3500\n"
     ]
    }
   ],
   "source": [
    "history = model.fit(X_train , Y_train , batch_size = 100 , epochs=10 , validation_data=(X_val,Y_val))"
   ]
  },
  {
   "cell_type": "code",
   "execution_count": 85,
   "metadata": {},
   "outputs": [
    {
     "name": "stdout",
     "output_type": "stream",
     "text": [
      "203/203 [==============================] - 9s 42ms/step - loss: 4.7417 - accuracy: 0.3020\n"
     ]
    },
    {
     "data": {
      "text/plain": [
       "[4.741705417633057, 0.30200618505477905]"
      ]
     },
     "execution_count": 85,
     "metadata": {},
     "output_type": "execute_result"
    }
   ],
   "source": [
    "model.evaluate(X_test,Y_test)"
   ]
  },
  {
   "cell_type": "code",
   "execution_count": null,
   "metadata": {},
   "outputs": [],
   "source": []
  }
 ],
 "metadata": {
  "kernelspec": {
   "display_name": "Python 3",
   "language": "python",
   "name": "python3"
  },
  "language_info": {
   "codemirror_mode": {
    "name": "ipython",
    "version": 3
   },
   "file_extension": ".py",
   "mimetype": "text/x-python",
   "name": "python",
   "nbconvert_exporter": "python",
   "pygments_lexer": "ipython3",
   "version": "3.8.2"
  }
 },
 "nbformat": 4,
 "nbformat_minor": 4
}
