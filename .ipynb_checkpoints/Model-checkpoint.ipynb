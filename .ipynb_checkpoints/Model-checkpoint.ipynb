{
 "cells": [
  {
   "cell_type": "code",
   "execution_count": 1,
   "metadata": {},
   "outputs": [],
   "source": [
    "import pickle\n",
    "import numpy as np"
   ]
  },
  {
   "cell_type": "code",
   "execution_count": 2,
   "metadata": {},
   "outputs": [],
   "source": [
    "file = \"../DeepMoji-master/data/PsychExp/raw.pickle\""
   ]
  },
  {
   "cell_type": "code",
   "execution_count": 3,
   "metadata": {},
   "outputs": [],
   "source": [
    "data = pickle.load(open(file,'rb'),encoding='latin1')"
   ]
  },
  {
   "cell_type": "code",
   "execution_count": 4,
   "metadata": {},
   "outputs": [],
   "source": [
    "label = data['info']\n",
    "\n",
    "texts = data['texts']\n",
    "\n",
    "val_index = data['val_ind']\n",
    "\n",
    "test_index = data['test_ind']\n",
    "\n",
    "train_index = data['train_ind']"
   ]
  },
  {
   "cell_type": "code",
   "execution_count": 5,
   "metadata": {},
   "outputs": [],
   "source": [
    "def glove_vec(path):\n",
    "    import numpy as np\n",
    "    with open(path,'r',encoding='utf-8') as f:\n",
    "        words = set()\n",
    "        word_vec = {}\n",
    "        for line in f:\n",
    "            line = line.strip().split()\n",
    "            key = line[0]\n",
    "            words.add(key)\n",
    "            val = np.array(line[1:],dtype=np.float64)\n",
    "            word_vec[key] = val\n",
    "            \n",
    "        # Dict (Vocab) --> set\n",
    "        word2idx = {}\n",
    "        idx2word = {}\n",
    "        \n",
    "        for i,w in enumerate(sorted(words)):\n",
    "            word2idx[w] = i\n",
    "            idx2word[i] = w\n",
    "            \n",
    "    return word_vec,word2idx,idx2word"
   ]
  },
  {
   "cell_type": "code",
   "execution_count": 6,
   "metadata": {},
   "outputs": [],
   "source": [
    "word_vec,word2idx,idx2word = glove_vec('../glove.6B/glove.6B.50d.txt')\n",
    "vocab_size = len(word_vec)"
   ]
  },
  {
   "cell_type": "code",
   "execution_count": 17,
   "metadata": {},
   "outputs": [],
   "source": [
    "from nltk import word_tokenize\n",
    "\n",
    "nodes = 128"
   ]
  },
  {
   "cell_type": "code",
   "execution_count": 18,
   "metadata": {},
   "outputs": [],
   "source": [
    "def get_XY_data(Index):\n",
    "    X = np.zeros((len(Index) , nodes ))\n",
    "    Y = np.zeros((len(Index) , 7))\n",
    "    \n",
    "    zer = np.zeros((50 ,))\n",
    "    for i ,index in enumerate(Index):\n",
    "        line = word_tokenize(texts[index].lower())\n",
    "        \n",
    "        #print(index)\n",
    "        Y[i] = label[index]['label']\n",
    "        for j , word  in  enumerate(line[:nodes]):\n",
    "             X[i , j] =  word2idx.get(word , 0)\n",
    "        #print(X[i])\n",
    "    return X ,Y\n"
   ]
  },
  {
   "cell_type": "code",
   "execution_count": 19,
   "metadata": {},
   "outputs": [],
   "source": [
    "corpus_len = len(word2idx) + 1\n",
    "embed_dim = 50\n",
    "\n",
    "embed_matrix = np.zeros((corpus_len,embed_dim))\n",
    "for word, index in word2idx.items():\n",
    "    embed_matrix[index,:] = word_vec[word]\n"
   ]
  },
  {
   "cell_type": "code",
   "execution_count": 20,
   "metadata": {},
   "outputs": [
    {
     "name": "stdout",
     "output_type": "stream",
     "text": [
      "(900, 128) (900, 7)\n",
      "(100, 128) (100, 7)\n"
     ]
    }
   ],
   "source": [
    "X_train , Y_train  = get_XY_data(train_index)\n",
    "print(X_train.shape , Y_train.shape)\n",
    "\n",
    "#X_test , Y_test  = get_XY_data(test_index)\n",
    "#print(X_test.shape , Y_test.shape)\n",
    "\n",
    "X_val , Y_val  = get_XY_data(val_index)\n",
    "print(X_val.shape , Y_val.shape)\n"
   ]
  },
  {
   "cell_type": "code",
   "execution_count": 88,
   "metadata": {},
   "outputs": [],
   "source": [
    "from keras.layers import Embedding , Flatten ,Dense , Bidirectional ,LSTM\n",
    "from keras.models import Sequential\n",
    "from keras.layers import BatchNormalization"
   ]
  },
  {
   "cell_type": "code",
   "execution_count": 89,
   "metadata": {},
   "outputs": [],
   "source": [
    "model = Sequential()\n",
    "model.add(Embedding(vocab_size + 1,50, input_length=nodes , trainable = False ))\n",
    "model.add(Bidirectional(LSTM(nodes ,  return_sequences = True  , recurrent_dropout = 0.2 )))\n",
    "model.add(Flatten())\n",
    "model.add(Dense(7, activation='softmax'))"
   ]
  },
  {
   "cell_type": "code",
   "execution_count": 90,
   "metadata": {},
   "outputs": [],
   "source": [
    "model.layers[0].set_weights([embed_matrix])"
   ]
  },
  {
   "cell_type": "code",
   "execution_count": 91,
   "metadata": {},
   "outputs": [
    {
     "name": "stdout",
     "output_type": "stream",
     "text": [
      "Model: \"sequential_1\"\n",
      "_________________________________________________________________\n",
      "Layer (type)                 Output Shape              Param #   \n",
      "=================================================================\n",
      "embedding_1 (Embedding)      (None, 128, 50)           20000050  \n",
      "_________________________________________________________________\n",
      "bidirectional_1 (Bidirection (None, 128, 256)          183296    \n",
      "_________________________________________________________________\n",
      "flatten_1 (Flatten)          (None, 32768)             0         \n",
      "_________________________________________________________________\n",
      "dense_1 (Dense)              (None, 7)                 229383    \n",
      "=================================================================\n",
      "Total params: 20,412,729\n",
      "Trainable params: 412,679\n",
      "Non-trainable params: 20,000,050\n",
      "_________________________________________________________________\n",
      "None\n"
     ]
    }
   ],
   "source": [
    "model.compile(optimizer='adam', loss='categorical_crossentropy', metrics=['accuracy'])\n",
    "print(model.summary())"
   ]
  },
  {
   "cell_type": "code",
   "execution_count": 92,
   "metadata": {},
   "outputs": [
    {
     "name": "stdout",
     "output_type": "stream",
     "text": [
      "Epoch 1/7\n",
      "57/57 [==============================] - 12s 218ms/step - loss: 2.4369 - accuracy: 0.1600 - val_loss: 1.8916 - val_accuracy: 0.2300\n",
      "Epoch 2/7\n",
      "57/57 [==============================] - 12s 210ms/step - loss: 1.7409 - accuracy: 0.3189 - val_loss: 1.8217 - val_accuracy: 0.2500\n",
      "Epoch 3/7\n",
      "57/57 [==============================] - 12s 208ms/step - loss: 1.5526 - accuracy: 0.3989 - val_loss: 1.8435 - val_accuracy: 0.2600\n",
      "Epoch 4/7\n",
      "57/57 [==============================] - 12s 208ms/step - loss: 1.3654 - accuracy: 0.5000 - val_loss: 1.7078 - val_accuracy: 0.3500\n",
      "Epoch 5/7\n",
      "57/57 [==============================] - 12s 211ms/step - loss: 1.2497 - accuracy: 0.5644 - val_loss: 1.7487 - val_accuracy: 0.3400\n",
      "Epoch 6/7\n",
      "57/57 [==============================] - 12s 209ms/step - loss: 1.0900 - accuracy: 0.6444 - val_loss: 1.8301 - val_accuracy: 0.3600\n",
      "Epoch 7/7\n",
      "57/57 [==============================] - 12s 210ms/step - loss: 0.9649 - accuracy: 0.6744 - val_loss: 1.8851 - val_accuracy: 0.3700\n"
     ]
    }
   ],
   "source": [
    "history = model.fit(X_train , Y_train , batch_size = 16 , epochs=7 , validation_data=(X_val,Y_val))"
   ]
  },
  {
   "cell_type": "code",
   "execution_count": 79,
   "metadata": {},
   "outputs": [],
   "source": [
    "model.save(\"model.h5\")"
   ]
  }
 ],
 "metadata": {
  "kernelspec": {
   "display_name": "Python 3",
   "language": "python",
   "name": "python3"
  },
  "language_info": {
   "codemirror_mode": {
    "name": "ipython",
    "version": 3
   },
   "file_extension": ".py",
   "mimetype": "text/x-python",
   "name": "python",
   "nbconvert_exporter": "python",
   "pygments_lexer": "ipython3",
   "version": "3.8.2"
  }
 },
 "nbformat": 4,
 "nbformat_minor": 4
}
