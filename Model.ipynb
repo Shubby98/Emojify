{
 "cells": [
  {
   "cell_type": "code",
   "execution_count": 106,
   "metadata": {},
   "outputs": [],
   "source": [
    "import pickle\n",
    "import numpy as np"
   ]
  },
  {
   "cell_type": "code",
   "execution_count": 107,
   "metadata": {},
   "outputs": [],
   "source": [
    "file = \"../DeepMoji-master/data/PsychExp/raw.pickle\""
   ]
  },
  {
   "cell_type": "code",
   "execution_count": 108,
   "metadata": {},
   "outputs": [],
   "source": [
    "data = pickle.load(open(file,'rb'),encoding='latin1')"
   ]
  },
  {
   "cell_type": "code",
   "execution_count": 109,
   "metadata": {},
   "outputs": [],
   "source": [
    "label = data['info']\n",
    "\n",
    "texts = data['texts']\n",
    "\n",
    "val_index = data['val_ind']\n",
    "\n",
    "test_index = data['test_ind']\n",
    "\n",
    "train_index = data['train_ind']"
   ]
  },
  {
   "cell_type": "code",
   "execution_count": 110,
   "metadata": {},
   "outputs": [],
   "source": [
    "def glove_vec(path):\n",
    "    import numpy as np\n",
    "    with open(path,'r',encoding='utf-8') as f:\n",
    "        words = set()\n",
    "        word_vec = {}\n",
    "        for line in f:\n",
    "            line = line.strip().split()\n",
    "            key = line[0]\n",
    "            words.add(key)\n",
    "            val = np.array(line[1:],dtype=np.float64)\n",
    "            word_vec[key] = val\n",
    "            \n",
    "        # Dict (Vocab) --> set\n",
    "        word2idx = {}\n",
    "        idx2word = {}\n",
    "        \n",
    "        for i,w in enumerate(sorted(words)):\n",
    "            word2idx[w] = i\n",
    "            idx2word[i] = w\n",
    "            \n",
    "    return word_vec,word2idx,idx2word"
   ]
  },
  {
   "cell_type": "code",
   "execution_count": 111,
   "metadata": {},
   "outputs": [],
   "source": [
    "word_vec,word2idx,idx2word = glove_vec('../glove.6B/glove.6B.50d.txt')\n",
    "vocab_size = len(word_vec)"
   ]
  },
  {
   "cell_type": "code",
   "execution_count": 112,
   "metadata": {},
   "outputs": [],
   "source": [
    "from nltk import word_tokenize\n",
    "\n",
    "nodes = 128"
   ]
  },
  {
   "cell_type": "code",
   "execution_count": 113,
   "metadata": {},
   "outputs": [],
   "source": [
    "def get_XY_data(Index):\n",
    "    X = np.zeros((len(Index) , nodes ))\n",
    "    Y = np.zeros((len(Index) , 7))\n",
    "    \n",
    "    zer = np.zeros((50 ,))\n",
    "    for i ,index in enumerate(Index):\n",
    "        line = word_tokenize(texts[index].lower())\n",
    "        \n",
    "        #print(index)\n",
    "        Y[i] = label[index]['label']\n",
    "        for j , word  in  enumerate(line[:nodes]):\n",
    "             X[i , j] =  word2idx.get(word , 0)\n",
    "        #print(X[i])\n",
    "    return X ,Y\n"
   ]
  },
  {
   "cell_type": "code",
   "execution_count": 114,
   "metadata": {},
   "outputs": [],
   "source": [
    "corpus_len = len(word2idx) + 1\n",
    "embed_dim = 50\n",
    "\n",
    "embed_matrix = np.zeros((corpus_len,embed_dim))\n",
    "for word, index in word2idx.items():\n",
    "    embed_matrix[index,:] = word_vec[word]\n"
   ]
  },
  {
   "cell_type": "code",
   "execution_count": 115,
   "metadata": {},
   "outputs": [
    {
     "name": "stdout",
     "output_type": "stream",
     "text": [
      "(7380, 128) (7380, 7)\n",
      "(100, 128) (100, 7)\n"
     ]
    }
   ],
   "source": [
    "X_train , Y_train  = get_XY_data(train_index + test_index)\n",
    "print(X_train.shape , Y_train.shape)\n",
    "\n",
    "#X_test , Y_test  = get_XY_data(test_index)\n",
    "#print(X_test.shape , Y_test.shape)\n",
    "\n",
    "X_val , Y_val  = get_XY_data(val_index)\n",
    "print(X_val.shape , Y_val.shape)\n"
   ]
  },
  {
   "cell_type": "code",
   "execution_count": 116,
   "metadata": {},
   "outputs": [],
   "source": [
    "from keras.layers import Embedding , Flatten ,Dense , Bidirectional ,LSTM\n",
    "from keras.models import Sequential\n",
    "from keras.layers import BatchNormalization"
   ]
  },
  {
   "cell_type": "code",
   "execution_count": 117,
   "metadata": {},
   "outputs": [],
   "source": [
    "model = Sequential()\n",
    "model.add(Embedding(vocab_size + 1,50, input_length=nodes , trainable = False ))\n",
    "model.add(Bidirectional(LSTM(nodes ,  return_sequences = True  , recurrent_dropout = 0.2 )))\n",
    "model.add(Flatten())\n",
    "model.add(Dense(7, activation='softmax'))"
   ]
  },
  {
   "cell_type": "code",
   "execution_count": 118,
   "metadata": {},
   "outputs": [],
   "source": [
    "model.layers[0].set_weights([embed_matrix])"
   ]
  },
  {
   "cell_type": "code",
   "execution_count": 119,
   "metadata": {},
   "outputs": [
    {
     "name": "stdout",
     "output_type": "stream",
     "text": [
      "Model: \"sequential_15\"\n",
      "_________________________________________________________________\n",
      "Layer (type)                 Output Shape              Param #   \n",
      "=================================================================\n",
      "embedding_15 (Embedding)     (None, 128, 50)           20000050  \n",
      "_________________________________________________________________\n",
      "bidirectional_15 (Bidirectio (None, 128, 256)          183296    \n",
      "_________________________________________________________________\n",
      "flatten_15 (Flatten)         (None, 32768)             0         \n",
      "_________________________________________________________________\n",
      "dense_23 (Dense)             (None, 7)                 229383    \n",
      "=================================================================\n",
      "Total params: 20,412,729\n",
      "Trainable params: 412,679\n",
      "Non-trainable params: 20,000,050\n",
      "_________________________________________________________________\n",
      "None\n"
     ]
    }
   ],
   "source": [
    "model.compile(optimizer='adam', loss='categorical_crossentropy', metrics=['accuracy'])\n",
    "print(model.summary())"
   ]
  },
  {
   "cell_type": "code",
   "execution_count": 120,
   "metadata": {},
   "outputs": [
    {
     "name": "stdout",
     "output_type": "stream",
     "text": [
      "Epoch 1/10\n",
      "462/462 [==============================] - 97s 210ms/step - loss: 1.7703 - accuracy: 0.3328 - val_loss: 1.5893 - val_accuracy: 0.3600\n",
      "Epoch 2/10\n",
      "462/462 [==============================] - 98s 212ms/step - loss: 1.4626 - accuracy: 0.4589 - val_loss: 1.3707 - val_accuracy: 0.4700\n",
      "Epoch 3/10\n",
      "462/462 [==============================] - 94s 205ms/step - loss: 1.2718 - accuracy: 0.5444 - val_loss: 1.3894 - val_accuracy: 0.4400\n",
      "Epoch 4/10\n",
      "462/462 [==============================] - 117s 254ms/step - loss: 1.1038 - accuracy: 0.6122 - val_loss: 1.4149 - val_accuracy: 0.5100\n",
      "Epoch 5/10\n",
      "462/462 [==============================] - 130s 281ms/step - loss: 0.9393 - accuracy: 0.6703 - val_loss: 1.3951 - val_accuracy: 0.4600\n",
      "Epoch 6/10\n",
      "462/462 [==============================] - 129s 278ms/step - loss: 0.7763 - accuracy: 0.7266 - val_loss: 1.3778 - val_accuracy: 0.4700\n",
      "Epoch 7/10\n",
      "462/462 [==============================] - 112s 242ms/step - loss: 0.6381 - accuracy: 0.7787 - val_loss: 1.4007 - val_accuracy: 0.4900\n",
      "Epoch 8/10\n",
      "462/462 [==============================] - 96s 208ms/step - loss: 0.5016 - accuracy: 0.8325 - val_loss: 1.8697 - val_accuracy: 0.4500\n",
      "Epoch 9/10\n",
      "462/462 [==============================] - 94s 204ms/step - loss: 0.3872 - accuracy: 0.8749 - val_loss: 1.9171 - val_accuracy: 0.4900\n",
      "Epoch 10/10\n",
      "462/462 [==============================] - 95s 205ms/step - loss: 0.2948 - accuracy: 0.9096 - val_loss: 2.0418 - val_accuracy: 0.4700\n"
     ]
    }
   ],
   "source": [
    "history = model.fit(X_train , Y_train , batch_size = 16 , epochs=10 , validation_data=(X_val,Y_val))"
   ]
  },
  {
   "cell_type": "code",
   "execution_count": 98,
   "metadata": {},
   "outputs": [
    {
     "name": "stdout",
     "output_type": "stream",
     "text": [
      "203/203 [==============================] - 7s 37ms/step - loss: 0.0468 - accuracy: 0.9943\n"
     ]
    },
    {
     "data": {
      "text/plain": [
       "[0.046766750514507294, 0.9942901134490967]"
      ]
     },
     "execution_count": 98,
     "metadata": {},
     "output_type": "execute_result"
    }
   ],
   "source": [
    "model.evaluate(X_test,Y_test)"
   ]
  },
  {
   "cell_type": "code",
   "execution_count": 105,
   "metadata": {},
   "outputs": [],
   "source": [
    "model.save(\"model.h5\")"
   ]
  },
  {
   "cell_type": "code",
   "execution_count": null,
   "metadata": {},
   "outputs": [],
   "source": []
  }
 ],
 "metadata": {
  "kernelspec": {
   "display_name": "Python 3",
   "language": "python",
   "name": "python3"
  },
  "language_info": {
   "codemirror_mode": {
    "name": "ipython",
    "version": 3
   },
   "file_extension": ".py",
   "mimetype": "text/x-python",
   "name": "python",
   "nbconvert_exporter": "python",
   "pygments_lexer": "ipython3",
   "version": "3.8.2"
  }
 },
 "nbformat": 4,
 "nbformat_minor": 4
}
