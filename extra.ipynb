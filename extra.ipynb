{
 "cells": [
  {
   "cell_type": "code",
   "execution_count": 1,
   "metadata": {},
   "outputs": [],
   "source": [
    "from text2emoji import *"
   ]
  },
  {
   "cell_type": "code",
   "execution_count": 17,
   "metadata": {},
   "outputs": [],
   "source": [
    "import numpy as np"
   ]
  },
  {
   "cell_type": "code",
   "execution_count": 2,
   "metadata": {},
   "outputs": [],
   "source": [
    "model , word2idx = load_model()"
   ]
  },
  {
   "cell_type": "code",
   "execution_count": 3,
   "metadata": {},
   "outputs": [],
   "source": [
    "text = \"Every time I imagine that someone I love or I could contact a serious illness, even death.\""
   ]
  },
  {
   "cell_type": "code",
   "execution_count": 4,
   "metadata": {},
   "outputs": [],
   "source": [
    "x = textpreprocessing(text , word2idx)\n",
    "result = predict_emoji(x ,model)\n",
    "emoji = get_html_emoji(result)"
   ]
  },
  {
   "cell_type": "code",
   "execution_count": 34,
   "metadata": {},
   "outputs": [
    {
     "name": "stdout",
     "output_type": "stream",
     "text": [
      "[[0.11470154 0.11470152 0.11470152 0.31179088 0.11470152 0.11470152\n",
      "  0.11470152]]\n",
      "3\n"
     ]
    },
    {
     "data": {
      "text/plain": [
       "3"
      ]
     },
     "execution_count": 34,
     "metadata": {},
     "output_type": "execute_result"
    }
   ],
   "source": [
    "res = model.predict(x)\n",
    "print(res)\n",
    "res = np.argmax(res)\n",
    "print(res)\n",
    "int(res)"
   ]
  },
  {
   "cell_type": "code",
   "execution_count": 7,
   "metadata": {},
   "outputs": [
    {
     "data": {
      "text/plain": [
       "1"
      ]
     },
     "execution_count": 7,
     "metadata": {},
     "output_type": "execute_result"
    }
   ],
   "source": [
    "result"
   ]
  },
  {
   "cell_type": "code",
   "execution_count": 10,
   "metadata": {},
   "outputs": [],
   "source": [
    "actual = 3"
   ]
  },
  {
   "cell_type": "code",
   "execution_count": 16,
   "metadata": {},
   "outputs": [],
   "source": [
    "test_sent = np.vstack([x]*5)"
   ]
  },
  {
   "cell_type": "code",
   "execution_count": 28,
   "metadata": {},
   "outputs": [
    {
     "data": {
      "text/plain": [
       "array([[0., 0., 0., 1., 0., 0., 0.]])"
      ]
     },
     "execution_count": 28,
     "metadata": {},
     "output_type": "execute_result"
    }
   ],
   "source": [
    "actual_output = np.zeros((1,7))\n",
    "actual_output[0,actual] = 1\n",
    "actual_output"
   ]
  },
  {
   "cell_type": "code",
   "execution_count": 29,
   "metadata": {},
   "outputs": [
    {
     "data": {
      "text/plain": [
       "array([[0., 0., 0., 1., 0., 0., 0.],\n",
       "       [0., 0., 0., 1., 0., 0., 0.],\n",
       "       [0., 0., 0., 1., 0., 0., 0.],\n",
       "       [0., 0., 0., 1., 0., 0., 0.],\n",
       "       [0., 0., 0., 1., 0., 0., 0.]])"
      ]
     },
     "execution_count": 29,
     "metadata": {},
     "output_type": "execute_result"
    }
   ],
   "source": [
    "actual_output = np.vstack([actual_output]*5)\n",
    "actual_output"
   ]
  },
  {
   "cell_type": "code",
   "execution_count": 32,
   "metadata": {},
   "outputs": [],
   "source": [
    "model.compile(loss='categorical_crossentropy' , optimizer = 'adam' , metrics = ['acc'])"
   ]
  },
  {
   "cell_type": "code",
   "execution_count": 33,
   "metadata": {},
   "outputs": [
    {
     "name": "stdout",
     "output_type": "stream",
     "text": [
      "Epoch 1/10\n",
      "1/1 [==============================] - 6s 6s/step - loss: 2.1539 - acc: 0.0000e+00\n",
      "Epoch 2/10\n",
      "1/1 [==============================] - 0s 274ms/step - loss: 2.1527 - acc: 0.0000e+00\n",
      "Epoch 3/10\n",
      "1/1 [==============================] - 0s 285ms/step - loss: 2.0450 - acc: 0.2000\n",
      "Epoch 4/10\n",
      "1/1 [==============================] - 0s 267ms/step - loss: 2.1078 - acc: 0.0000e+00\n",
      "Epoch 5/10\n",
      "1/1 [==============================] - 0s 256ms/step - loss: 2.0909 - acc: 0.0000e+00\n",
      "Epoch 6/10\n",
      "1/1 [==============================] - 0s 254ms/step - loss: 1.2783 - acc: 1.0000\n",
      "Epoch 7/10\n",
      "1/1 [==============================] - 0s 252ms/step - loss: 1.1813 - acc: 1.0000\n",
      "Epoch 8/10\n",
      "1/1 [==============================] - 0s 270ms/step - loss: 1.1747 - acc: 1.0000\n",
      "Epoch 9/10\n",
      "1/1 [==============================] - 0s 296ms/step - loss: 1.1753 - acc: 1.0000\n",
      "Epoch 10/10\n",
      "1/1 [==============================] - 0s 354ms/step - loss: 1.1748 - acc: 1.0000\n"
     ]
    },
    {
     "data": {
      "text/plain": [
       "<tensorflow.python.keras.callbacks.History at 0x7f064f8d04c0>"
      ]
     },
     "execution_count": 33,
     "metadata": {},
     "output_type": "execute_result"
    }
   ],
   "source": [
    "model.fit(test_sent , actual_output , epochs = 10 , batch_size = 32 , shuffle = True)"
   ]
  },
  {
   "cell_type": "code",
   "execution_count": null,
   "metadata": {},
   "outputs": [],
   "source": []
  }
 ],
 "metadata": {
  "kernelspec": {
   "display_name": "Python 3",
   "language": "python",
   "name": "python3"
  },
  "language_info": {
   "codemirror_mode": {
    "name": "ipython",
    "version": 3
   },
   "file_extension": ".py",
   "mimetype": "text/x-python",
   "name": "python",
   "nbconvert_exporter": "python",
   "pygments_lexer": "ipython3",
   "version": "3.8.5"
  }
 },
 "nbformat": 4,
 "nbformat_minor": 2
}
